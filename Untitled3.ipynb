{
  "nbformat": 4,
  "nbformat_minor": 0,
  "metadata": {
    "colab": {
      "provenance": [],
      "authorship_tag": "ABX9TyO47DLmxsR+UZMzWNoMOTBT",
      "include_colab_link": true
    },
    "kernelspec": {
      "name": "python3",
      "display_name": "Python 3"
    },
    "language_info": {
      "name": "python"
    }
  },
  "cells": [
    {
      "cell_type": "markdown",
      "metadata": {
        "id": "view-in-github",
        "colab_type": "text"
      },
      "source": [
        "<a href=\"https://colab.research.google.com/github/adrianapaula-ux/dio-desafio-001/blob/main/Untitled3.ipynb\" target=\"_parent\"><img src=\"https://colab.research.google.com/assets/colab-badge.svg\" alt=\"Open In Colab\"/></a>"
      ]
    },
    {
      "cell_type": "code",
      "execution_count": 1,
      "metadata": {
        "id": "pmLrUSFUwRzW"
      },
      "outputs": [],
      "source": [
        "import pandas as pd\n",
        "\n",
        "url = 'https://pycourse.s3.amazonaws.com/banknote_authentication.txt'\n",
        "dataset = pd.read_csv(url, header=None)\n"
      ]
    },
    {
      "cell_type": "code",
      "source": [
        "from sklearn.model_selection import train_test_split\n",
        "\n",
        "X = dataset.iloc[:, :-1]  # Entradas (todas as colunas, exceto a última)\n",
        "y = dataset.iloc[:, -1]   # Saída (última coluna)\n",
        "\n",
        "X_train, X_test, y_train, y_test = train_test_split(X, y, test_size=0.3, random_state=1)\n"
      ],
      "metadata": {
        "id": "MjOxSz3LwnLG"
      },
      "execution_count": 2,
      "outputs": []
    },
    {
      "cell_type": "code",
      "source": [
        "from sklearn.neighbors import KNeighborsClassifier\n",
        "from sklearn.tree import DecisionTreeClassifier\n",
        "from sklearn.ensemble import RandomForestClassifier\n",
        "from sklearn.svm import SVC\n",
        "from sklearn.neural_network import MLPClassifier\n",
        "\n",
        "# Algoritmo KNN\n",
        "clf_KNN = KNeighborsClassifier(n_neighbors=5)\n",
        "clf_KNN.fit(X_train, y_train)\n",
        "\n",
        "# Algoritmo Árvore de Decisão (Decision Tree)\n",
        "clf_arvore = DecisionTreeClassifier(random_state=1)\n",
        "clf_arvore.fit(X_train, y_train)\n",
        "\n",
        "# Algoritmo Floresta Aleatória (Random Forest)\n",
        "clf_floresta = RandomForestClassifier(max_depth=8, random_state=1)\n",
        "clf_floresta.fit(X_train, y_train)\n",
        "\n",
        "# Algoritmo SVM\n",
        "clf_svm = SVC(gamma='auto', kernel='rbf', random_state=1)\n",
        "clf_svm.fit(X_train, y_train)\n",
        "\n",
        "# Algoritmo Rede MLP\n",
        "clf_mlp = MLPClassifier(hidden_layer_sizes=(2,), solver='lbfgs', random_state=1)\n",
        "clf_mlp.fit(X_train, y_train)\n"
      ],
      "metadata": {
        "colab": {
          "base_uri": "https://localhost:8080/",
          "height": 75
        },
        "id": "7xcsv1mewp7c",
        "outputId": "396e6faf-bf41-424f-87c8-75376150550b"
      },
      "execution_count": 3,
      "outputs": [
        {
          "output_type": "execute_result",
          "data": {
            "text/plain": [
              "MLPClassifier(hidden_layer_sizes=(2,), random_state=1, solver='lbfgs')"
            ],
            "text/html": [
              "<style>#sk-container-id-1 {color: black;background-color: white;}#sk-container-id-1 pre{padding: 0;}#sk-container-id-1 div.sk-toggleable {background-color: white;}#sk-container-id-1 label.sk-toggleable__label {cursor: pointer;display: block;width: 100%;margin-bottom: 0;padding: 0.3em;box-sizing: border-box;text-align: center;}#sk-container-id-1 label.sk-toggleable__label-arrow:before {content: \"▸\";float: left;margin-right: 0.25em;color: #696969;}#sk-container-id-1 label.sk-toggleable__label-arrow:hover:before {color: black;}#sk-container-id-1 div.sk-estimator:hover label.sk-toggleable__label-arrow:before {color: black;}#sk-container-id-1 div.sk-toggleable__content {max-height: 0;max-width: 0;overflow: hidden;text-align: left;background-color: #f0f8ff;}#sk-container-id-1 div.sk-toggleable__content pre {margin: 0.2em;color: black;border-radius: 0.25em;background-color: #f0f8ff;}#sk-container-id-1 input.sk-toggleable__control:checked~div.sk-toggleable__content {max-height: 200px;max-width: 100%;overflow: auto;}#sk-container-id-1 input.sk-toggleable__control:checked~label.sk-toggleable__label-arrow:before {content: \"▾\";}#sk-container-id-1 div.sk-estimator input.sk-toggleable__control:checked~label.sk-toggleable__label {background-color: #d4ebff;}#sk-container-id-1 div.sk-label input.sk-toggleable__control:checked~label.sk-toggleable__label {background-color: #d4ebff;}#sk-container-id-1 input.sk-hidden--visually {border: 0;clip: rect(1px 1px 1px 1px);clip: rect(1px, 1px, 1px, 1px);height: 1px;margin: -1px;overflow: hidden;padding: 0;position: absolute;width: 1px;}#sk-container-id-1 div.sk-estimator {font-family: monospace;background-color: #f0f8ff;border: 1px dotted black;border-radius: 0.25em;box-sizing: border-box;margin-bottom: 0.5em;}#sk-container-id-1 div.sk-estimator:hover {background-color: #d4ebff;}#sk-container-id-1 div.sk-parallel-item::after {content: \"\";width: 100%;border-bottom: 1px solid gray;flex-grow: 1;}#sk-container-id-1 div.sk-label:hover label.sk-toggleable__label {background-color: #d4ebff;}#sk-container-id-1 div.sk-serial::before {content: \"\";position: absolute;border-left: 1px solid gray;box-sizing: border-box;top: 0;bottom: 0;left: 50%;z-index: 0;}#sk-container-id-1 div.sk-serial {display: flex;flex-direction: column;align-items: center;background-color: white;padding-right: 0.2em;padding-left: 0.2em;position: relative;}#sk-container-id-1 div.sk-item {position: relative;z-index: 1;}#sk-container-id-1 div.sk-parallel {display: flex;align-items: stretch;justify-content: center;background-color: white;position: relative;}#sk-container-id-1 div.sk-item::before, #sk-container-id-1 div.sk-parallel-item::before {content: \"\";position: absolute;border-left: 1px solid gray;box-sizing: border-box;top: 0;bottom: 0;left: 50%;z-index: -1;}#sk-container-id-1 div.sk-parallel-item {display: flex;flex-direction: column;z-index: 1;position: relative;background-color: white;}#sk-container-id-1 div.sk-parallel-item:first-child::after {align-self: flex-end;width: 50%;}#sk-container-id-1 div.sk-parallel-item:last-child::after {align-self: flex-start;width: 50%;}#sk-container-id-1 div.sk-parallel-item:only-child::after {width: 0;}#sk-container-id-1 div.sk-dashed-wrapped {border: 1px dashed gray;margin: 0 0.4em 0.5em 0.4em;box-sizing: border-box;padding-bottom: 0.4em;background-color: white;}#sk-container-id-1 div.sk-label label {font-family: monospace;font-weight: bold;display: inline-block;line-height: 1.2em;}#sk-container-id-1 div.sk-label-container {text-align: center;}#sk-container-id-1 div.sk-container {/* jupyter's `normalize.less` sets `[hidden] { display: none; }` but bootstrap.min.css set `[hidden] { display: none !important; }` so we also need the `!important` here to be able to override the default hidden behavior on the sphinx rendered scikit-learn.org. See: https://github.com/scikit-learn/scikit-learn/issues/21755 */display: inline-block !important;position: relative;}#sk-container-id-1 div.sk-text-repr-fallback {display: none;}</style><div id=\"sk-container-id-1\" class=\"sk-top-container\"><div class=\"sk-text-repr-fallback\"><pre>MLPClassifier(hidden_layer_sizes=(2,), random_state=1, solver=&#x27;lbfgs&#x27;)</pre><b>In a Jupyter environment, please rerun this cell to show the HTML representation or trust the notebook. <br />On GitHub, the HTML representation is unable to render, please try loading this page with nbviewer.org.</b></div><div class=\"sk-container\" hidden><div class=\"sk-item\"><div class=\"sk-estimator sk-toggleable\"><input class=\"sk-toggleable__control sk-hidden--visually\" id=\"sk-estimator-id-1\" type=\"checkbox\" checked><label for=\"sk-estimator-id-1\" class=\"sk-toggleable__label sk-toggleable__label-arrow\">MLPClassifier</label><div class=\"sk-toggleable__content\"><pre>MLPClassifier(hidden_layer_sizes=(2,), random_state=1, solver=&#x27;lbfgs&#x27;)</pre></div></div></div></div></div>"
            ]
          },
          "metadata": {},
          "execution_count": 3
        }
      ]
    },
    {
      "cell_type": "code",
      "source": [
        "print(dataset)"
      ],
      "metadata": {
        "colab": {
          "base_uri": "https://localhost:8080/"
        },
        "id": "X3bPSD1JxMHs",
        "outputId": "11cc426a-c020-41f1-b068-5fae7f81f963"
      },
      "execution_count": 5,
      "outputs": [
        {
          "output_type": "stream",
          "name": "stdout",
          "text": [
            "            0         1        2        3  4\n",
            "0     3.62160   8.66610  -2.8073 -0.44699  0\n",
            "1     4.54590   8.16740  -2.4586 -1.46210  0\n",
            "2     3.86600  -2.63830   1.9242  0.10645  0\n",
            "3     3.45660   9.52280  -4.0112 -3.59440  0\n",
            "4     0.32924  -4.45520   4.5718 -0.98880  0\n",
            "...       ...       ...      ...      ... ..\n",
            "1367  0.40614   1.34920  -1.4501 -0.55949  1\n",
            "1368 -1.38870  -4.87730   6.4774  0.34179  1\n",
            "1369 -3.75030 -13.45860  17.5932 -2.77710  1\n",
            "1370 -3.56370  -8.38270  12.3930 -1.28230  1\n",
            "1371 -2.54190  -0.65804   2.6842  1.19520  1\n",
            "\n",
            "[1372 rows x 5 columns]\n"
          ]
        }
      ]
    },
    {
      "cell_type": "code",
      "source": [
        "#leitura do dataset\n",
        "df = pd.read_csv ('https://pycourse.s3.amazonaws.com/banknote_authentication.txt',\n",
        "  header=None, \n",
        "  names=['variance', 'skewness', 'curtosis', 'entropy', \"class\"])"
      ],
      "metadata": {
        "id": "BQCPgXEDxZzt"
      },
      "execution_count": 6,
      "outputs": []
    },
    {
      "cell_type": "code",
      "source": [
        "print(df)"
      ],
      "metadata": {
        "colab": {
          "base_uri": "https://localhost:8080/"
        },
        "id": "yV8shXJkxwLD",
        "outputId": "726702de-9bf0-499e-e887-b413176d0057"
      },
      "execution_count": 10,
      "outputs": [
        {
          "output_type": "stream",
          "name": "stdout",
          "text": [
            "      variance  skewness  curtosis  entropy  class\n",
            "0      3.62160   8.66610   -2.8073 -0.44699      0\n",
            "1      4.54590   8.16740   -2.4586 -1.46210      0\n",
            "2      3.86600  -2.63830    1.9242  0.10645      0\n",
            "3      3.45660   9.52280   -4.0112 -3.59440      0\n",
            "4      0.32924  -4.45520    4.5718 -0.98880      0\n",
            "...        ...       ...       ...      ...    ...\n",
            "1367   0.40614   1.34920   -1.4501 -0.55949      1\n",
            "1368  -1.38870  -4.87730    6.4774  0.34179      1\n",
            "1369  -3.75030 -13.45860   17.5932 -2.77710      1\n",
            "1370  -3.56370  -8.38270   12.3930 -1.28230      1\n",
            "1371  -2.54190  -0.65804    2.6842  1.19520      1\n",
            "\n",
            "[1372 rows x 5 columns]\n"
          ]
        }
      ]
    },
    {
      "cell_type": "code",
      "source": [
        "# Cálculo do range para cada coluna\n",
        "ranges = df.max() - df.min()\n",
        "\n",
        "# Identificação da variável com o maior range\n",
        "coluna_maior_range = ranges.idxmax()\n",
        "\n",
        "print(\"A variável com o maior range é:\", coluna_maior_range)"
      ],
      "metadata": {
        "colab": {
          "base_uri": "https://localhost:8080/"
        },
        "id": "cN6Z73r7yMQb",
        "outputId": "09778953-7845-443d-ad83-c7d5d25f7dcb"
      },
      "execution_count": 12,
      "outputs": [
        {
          "output_type": "stream",
          "name": "stdout",
          "text": [
            "A variável com o maior range é: skewness\n"
          ]
        }
      ]
    },
    {
      "cell_type": "code",
      "source": [
        "media_skewness = df['skewness'].mean()\n",
        "\n",
        "print(\"A média da coluna skewness é:\", media_skewness)\n"
      ],
      "metadata": {
        "colab": {
          "base_uri": "https://localhost:8080/"
        },
        "id": "sDOzSYYKybub",
        "outputId": "6852d2f0-b28f-4603-805d-e30f9dfbf103"
      },
      "execution_count": 13,
      "outputs": [
        {
          "output_type": "stream",
          "name": "stdout",
          "text": [
            "A média da coluna skewness é: 1.9223531206393585\n"
          ]
        }
      ]
    },
    {
      "cell_type": "code",
      "source": [
        "media_entropy = df['entropy'].mean()\n",
        "\n",
        "print(\"A média da coluna entropy é:\", media_entropy)\n"
      ],
      "metadata": {
        "colab": {
          "base_uri": "https://localhost:8080/"
        },
        "id": "bWV5y1nIycGk",
        "outputId": "3ac88cf9-f390-4019-fc7a-c95ffe7f35cf"
      },
      "execution_count": 14,
      "outputs": [
        {
          "output_type": "stream",
          "name": "stdout",
          "text": [
            "A média da coluna entropy é: -1.1916565200437317\n"
          ]
        }
      ]
    },
    {
      "cell_type": "code",
      "source": [
        "mediana_variance = df['variance'].median()\n",
        "\n",
        "print(\"A mediana da coluna variance é:\", mediana_variance)\n"
      ],
      "metadata": {
        "colab": {
          "base_uri": "https://localhost:8080/"
        },
        "id": "jQYMIY3WyvuL",
        "outputId": "e0fdf4df-7042-40e7-8afa-d71716f977d4"
      },
      "execution_count": 15,
      "outputs": [
        {
          "output_type": "stream",
          "name": "stdout",
          "text": [
            "A mediana da coluna variance é: 0.49617999999999995\n"
          ]
        }
      ]
    },
    {
      "cell_type": "code",
      "source": [
        "desvio_padrao_curtosis = df['curtosis'].std()\n",
        "\n",
        "print(\"O desvio padrão da coluna curtosis é:\", desvio_padrao_curtosis)\n"
      ],
      "metadata": {
        "colab": {
          "base_uri": "https://localhost:8080/"
        },
        "id": "SskH5WSfzBDD",
        "outputId": "37ca617f-6f59-4501-9631-0b7721501460"
      },
      "execution_count": 16,
      "outputs": [
        {
          "output_type": "stream",
          "name": "stdout",
          "text": [
            "O desvio padrão da coluna curtosis é: 4.310030090106596\n"
          ]
        }
      ]
    },
    {
      "cell_type": "code",
      "source": [
        "total_exemplos = len(df)\n",
        "total_cedulas_falsas = len(df[df['class'] == 1])\n",
        "\n",
        "porcentagem_cedulas_falsas = (total_cedulas_falsas / total_exemplos) * 100\n",
        "\n",
        "print(\"A porcentagem de exemplos do dataset que são cédulas falsas é:\", porcentagem_cedulas_falsas)\n"
      ],
      "metadata": {
        "colab": {
          "base_uri": "https://localhost:8080/"
        },
        "id": "Mh5Kh7y6zJKw",
        "outputId": "aaac2567-0786-41c2-fba1-f75957cb9154"
      },
      "execution_count": 17,
      "outputs": [
        {
          "output_type": "stream",
          "name": "stdout",
          "text": [
            "A porcentagem de exemplos do dataset que são cédulas falsas é: 44.460641399416915\n"
          ]
        }
      ]
    },
    {
      "cell_type": "code",
      "source": [
        "correlacao = df[['skewness', 'curtosis']].corr().iloc[0, 1]\n",
        "\n",
        "print(\"O valor da correlação de Pearson entre as variáveis skewness e curtosis é:\", correlacao)\n"
      ],
      "metadata": {
        "colab": {
          "base_uri": "https://localhost:8080/"
        },
        "id": "XL4JL943zK2E",
        "outputId": "f91bc25a-0947-4d1b-83bb-3241c1f00fb2"
      },
      "execution_count": 18,
      "outputs": [
        {
          "output_type": "stream",
          "name": "stdout",
          "text": [
            "O valor da correlação de Pearson entre as variáveis skewness e curtosis é: -0.7868952243065797\n"
          ]
        }
      ]
    },
    {
      "cell_type": "code",
      "source": [
        "from sklearn.model_selection import train_test_split\n",
        "from sklearn.neighbors import KNeighborsClassifier\n",
        "from sklearn.metrics import accuracy_score\n",
        "import pandas as pd\n",
        "\n",
        "# Carregar o dataset e atribuir os nomes das colunas\n",
        "df = pd.read_csv('https://pycourse.s3.amazonaws.com/banknote_authentication.txt',\n",
        "                 header=None,\n",
        "                 names=['variance', 'skewness', 'curtosis', 'entropy', 'class'])\n",
        "\n",
        "# Separar as variáveis de entrada (X) e a variável de saída (y)\n",
        "X = df.drop('class', axis=1)\n",
        "y = df['class']\n",
        "\n",
        "# Dividir o dataset em conjunto de treino e teste\n",
        "X_train, X_test, y_train, y_test = train_test_split(X, y, test_size=0.3, random_state=1)\n",
        "\n",
        "# Criar o modelo KNN\n",
        "clf_KNN = KNeighborsClassifier(n_neighbors=5)\n",
        "\n",
        "# Treinar o modelo\n",
        "clf_KNN.fit(X_train, y_train)\n",
        "\n",
        "# Realizar previsões no conjunto de teste\n",
        "y_pred = clf_KNN.predict(X_test)\n",
        "\n",
        "# Calcular a acurácia\n",
        "acuracia = accuracy_score(y_test, y_pred)\n",
        "\n",
        "print(\"A acurácia do KNN no conjunto de teste é:\", acuracia)\n"
      ],
      "metadata": {
        "colab": {
          "base_uri": "https://localhost:8080/"
        },
        "id": "ywQyz8-8zgSM",
        "outputId": "feb9e2c4-55dc-41cc-e850-785403d77946"
      },
      "execution_count": 20,
      "outputs": [
        {
          "output_type": "stream",
          "name": "stdout",
          "text": [
            "A acurácia do KNN no conjunto de teste é: 0.9975728155339806\n"
          ]
        }
      ]
    },
    {
      "cell_type": "code",
      "source": [
        "from sklearn.model_selection import train_test_split\n",
        "from sklearn.tree import DecisionTreeClassifier\n",
        "from sklearn.metrics import accuracy_score\n",
        "import pandas as pd\n",
        "\n",
        "# Carregar o dataset e atribuir os nomes das colunas\n",
        "df = pd.read_csv('https://pycourse.s3.amazonaws.com/banknote_authentication.txt',\n",
        "                 header=None,\n",
        "                 names=['variance', 'skewness', 'curtosis', 'entropy', 'class'])\n",
        "\n",
        "# Separar as variáveis de entrada (X) e a variável de saída (y)\n",
        "X = df.drop('class', axis=1)\n",
        "y = df['class']\n",
        "\n",
        "# Dividir o dataset em conjunto de treino e teste\n",
        "X_train, X_test, y_train, y_test = train_test_split(X, y, test_size=0.3, random_state=1)\n",
        "\n",
        "# Criar o modelo de Árvore de Decisão\n",
        "clf_arvore = DecisionTreeClassifier(random_state=1)\n",
        "\n",
        "# Treinar o modelo\n",
        "clf_arvore.fit(X_train, y_train)\n",
        "\n",
        "# Realizar previsões no conjunto de teste\n",
        "y_pred = clf_arvore.predict(X_test)\n",
        "\n",
        "# Calcular a acurácia\n",
        "acuracia = accuracy_score(y_test, y_pred)\n",
        "\n",
        "print(\"A acurácia da Árvore de Decisão no conjunto de teste é:\", acuracia)\n"
      ],
      "metadata": {
        "colab": {
          "base_uri": "https://localhost:8080/"
        },
        "id": "p47GvqP5z27q",
        "outputId": "7c3f75c7-55b3-44d0-c321-366796041fd0"
      },
      "execution_count": 21,
      "outputs": [
        {
          "output_type": "stream",
          "name": "stdout",
          "text": [
            "A acurácia da Árvore de Decisão no conjunto de teste é: 0.9878640776699029\n"
          ]
        }
      ]
    },
    {
      "cell_type": "code",
      "source": [
        "from sklearn.model_selection import train_test_split\n",
        "from sklearn.ensemble import RandomForestClassifier\n",
        "from sklearn.metrics import accuracy_score\n",
        "import pandas as pd\n",
        "\n",
        "# Carregar o dataset e atribuir os nomes das colunas\n",
        "df = pd.read_csv('https://pycourse.s3.amazonaws.com/banknote_authentication.txt',\n",
        "                 header=None,\n",
        "                 names=['variance', 'skewness', 'curtosis', 'entropy', 'class'])\n",
        "\n",
        "# Separar as variáveis de entrada (X) e a variável de saída (y)\n",
        "X = df.drop('class', axis=1)\n",
        "y = df['class']\n",
        "\n",
        "# Dividir o dataset em conjunto de treino e teste\n",
        "X_train, X_test, y_train, y_test = train_test_split(X, y, test_size=0.3, random_state=1)\n",
        "\n",
        "# Criar o modelo Random Forest\n",
        "clf_floresta = RandomForestClassifier(max_depth=8, random_state=1)\n",
        "\n",
        "# Treinar o modelo\n",
        "clf_floresta.fit(X_train, y_train)\n",
        "\n",
        "# Realizar previsões no conjunto de teste\n",
        "y_pred = clf_floresta.predict(X_test)\n",
        "\n",
        "# Calcular a acurácia\n",
        "acuracia = accuracy_score(y_test, y_pred)\n",
        "\n",
        "print(\"A acurácia do Random Forest no conjunto de teste é:\", acuracia)\n"
      ],
      "metadata": {
        "colab": {
          "base_uri": "https://localhost:8080/"
        },
        "id": "sUjrb8GV0JAS",
        "outputId": "18e1b10e-1379-4129-d3b2-beb500eccf47"
      },
      "execution_count": 22,
      "outputs": [
        {
          "output_type": "stream",
          "name": "stdout",
          "text": [
            "A acurácia do Random Forest no conjunto de teste é: 0.9951456310679612\n"
          ]
        }
      ]
    },
    {
      "cell_type": "code",
      "source": [
        "from sklearn.model_selection import train_test_split\n",
        "from sklearn.ensemble import RandomForestClassifier\n",
        "import pandas as pd\n",
        "\n",
        "# Carregar o dataset e atribuir os nomes das colunas\n",
        "df = pd.read_csv('https://pycourse.s3.amazonaws.com/banknote_authentication.txt',\n",
        "                 header=None,\n",
        "                 names=['variance', 'skewness', 'curtosis', 'entropy', 'class'])\n",
        "\n",
        "# Separar as variáveis de entrada (X) e a variável de saída (y)\n",
        "X = df.drop('class', axis=1)\n",
        "y = df['class']\n",
        "\n",
        "# Dividir o dataset em conjunto de treino e teste\n",
        "X_train, X_test, y_train, y_test = train_test_split(X, y, test_size=0.3, random_state=1)\n",
        "\n",
        "# Criar o modelo Random Forest\n",
        "clf_floresta = RandomForestClassifier(max_depth=8, random_state=1)\n",
        "\n",
        "# Treinar o modelo\n",
        "clf_floresta.fit(X_train, y_train)\n",
        "\n",
        "# Obter a importância relativa das features\n",
        "importancia_features = clf_floresta.feature_importances_\n",
        "\n",
        "# Identificar a feature com a maior importância relativa\n",
        "feature_mais_importante = X.columns[importancia_features.argmax()]\n",
        "\n",
        "print(\"A feature que melhor contribuiu para a predição da classe é:\", feature_mais_importante)\n"
      ],
      "metadata": {
        "colab": {
          "base_uri": "https://localhost:8080/"
        },
        "id": "IlAGmpmw0WXp",
        "outputId": "481759e2-3688-4d6f-8347-4e923fee99f0"
      },
      "execution_count": 23,
      "outputs": [
        {
          "output_type": "stream",
          "name": "stdout",
          "text": [
            "A feature que melhor contribuiu para a predição da classe é: variance\n"
          ]
        }
      ]
    },
    {
      "cell_type": "code",
      "source": [
        "from sklearn.model_selection import train_test_split\n",
        "from sklearn.ensemble import RandomForestClassifier\n",
        "import pandas as pd\n",
        "\n",
        "# Carregar o dataset e atribuir os nomes das colunas\n",
        "df = pd.read_csv('https://pycourse.s3.amazonaws.com/banknote_authentication.txt',\n",
        "                 header=None,\n",
        "                 names=['variance', 'skewness', 'curtosis', 'entropy', 'class'])\n",
        "\n",
        "# Separar as variáveis de entrada (X) e a variável de saída (y)\n",
        "X = df.drop('class', axis=1)\n",
        "y = df['class']\n",
        "\n",
        "# Dividir o dataset em conjunto de treino e teste\n",
        "X_train, X_test, y_train, y_test = train_test_split(X, y, test_size=0.3, random_state=1)\n",
        "\n",
        "# Criar o modelo Random Forest\n",
        "clf_floresta = RandomForestClassifier(max_depth=8, random_state=1)\n",
        "\n",
        "# Treinar o modelo\n",
        "clf_floresta.fit(X_train, y_train)\n",
        "\n",
        "# Obter a importância relativa das features\n",
        "importancia_features = clf_floresta.feature_importances_\n",
        "\n",
        "# Encontrar o índice correspondente à feature \"skewness\"\n",
        "indice_skewness = X.columns.get_loc(\"skewness\")\n",
        "\n",
        "# Obter o valor da importância relativa da feature \"skewness\"\n",
        "importancia_skewness = importancia_features[indice_skewness]\n",
        "\n",
        "print(\"A importância relativa da feature 'skewness' é:\", importancia_skewness)\n"
      ],
      "metadata": {
        "colab": {
          "base_uri": "https://localhost:8080/"
        },
        "id": "a5GBkAVx0ZRa",
        "outputId": "3fd75a42-8e8d-44ec-d5e1-29200c5eceb4"
      },
      "execution_count": 24,
      "outputs": [
        {
          "output_type": "stream",
          "name": "stdout",
          "text": [
            "A importância relativa da feature 'skewness' é: 0.24058588894949182\n"
          ]
        }
      ]
    },
    {
      "cell_type": "code",
      "source": [
        "from sklearn.model_selection import train_test_split\n",
        "from sklearn.svm import SVC\n",
        "from sklearn.metrics import accuracy_score\n",
        "import pandas as pd\n",
        "\n",
        "# Carregar o dataset e atribuir os nomes das colunas\n",
        "df = pd.read_csv('https://pycourse.s3.amazonaws.com/banknote_authentication.txt',\n",
        "                 header=None,\n",
        "                 names=['variance', 'skewness', 'curtosis', 'entropy', 'class'])\n",
        "\n",
        "# Separar as variáveis de entrada (X) e a variável de saída (y)\n",
        "X = df.drop('class', axis=1)\n",
        "y = df['class']\n",
        "\n",
        "# Dividir o dataset em conjunto de treino e teste\n",
        "X_train, X_test, y_train, y_test = train_test_split(X, y, test_size=0.3, random_state=1)\n",
        "\n",
        "# Criar o modelo SVM\n",
        "clf_svm = SVC(gamma='auto', kernel='rbf', random_state=1)\n",
        "\n",
        "# Treinar o modelo\n",
        "clf_svm.fit(X_train, y_train)\n",
        "\n",
        "# Realizar previsões no conjunto de teste\n",
        "y_pred = clf_svm.predict(X_test)\n",
        "\n",
        "# Calcular a acurácia\n",
        "acuracia = accuracy_score(y_test, y_pred)\n",
        "\n",
        "print(\"A acurácia do SVM no conjunto de teste é:\", acuracia)\n"
      ],
      "metadata": {
        "colab": {
          "base_uri": "https://localhost:8080/"
        },
        "id": "43-9DAqh0pLf",
        "outputId": "81330938-8b87-4067-b527-f674e75f2dcb"
      },
      "execution_count": 25,
      "outputs": [
        {
          "output_type": "stream",
          "name": "stdout",
          "text": [
            "A acurácia do SVM no conjunto de teste é: 1.0\n"
          ]
        }
      ]
    }
  ]
}